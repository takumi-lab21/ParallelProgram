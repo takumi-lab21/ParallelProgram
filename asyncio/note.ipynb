{
 "cells": [
  {
   "cell_type": "markdown",
   "metadata": {},
   "source": [
    "## 並行処理いろいろ"
   ]
  },
  {
   "cell_type": "code",
   "execution_count": null,
   "metadata": {},
   "outputs": [],
   "source": [
    "\"\"\"\n",
    "シングルスレッドで並行処理を実行する\n",
    "\n",
    "イベントループ: \n",
    "- 全ての上位ループ\n",
    "- この上でコルーチンが起動する\n",
    "\n",
    "コルーチン:\n",
    "- サブルーチンがエントリーからリターンまでを一つの処理単位とするのに対し、コルーチンはいったん処理を中断した後、続きから処理を再開できる。\n",
    "- 要するに、「途中で中断可能な一連の処理の単位」である。\n",
    "\n",
    "https://qiita.com/osorezugoing/items/d26921f0affd62b87858\n",
    "\"\"\"\n",
    "\n",
    "import asyncio\n",
    "\n",
    "async def task(name):\n",
    "    print(f'{name}() started')\n",
    "    await asyncio.sleep(1)\n",
    "    print(f'{name}() finished')\n",
    "\n",
    "async def main():\n",
    "    task1 = asyncio.create_task(task(\"task1\"))  # タスクを作成\n",
    "    task2 = asyncio.create_task(task(\"task2\"))  # タスクを作成\n",
    "    task3 = asyncio.create_task(task(\"task3\"))  # タスクを作成\n",
    "    await task1\n",
    "    await task2\n",
    "    await task3\n",
    "\n",
    "# イベントループを起動し、その上でコルーチンを起動\n",
    "# asyncio.run(main()) # NOTE: jupyter noteは、asyncioのイベントループ上で動作するので、イベントループを開始できない\n",
    "\n",
    "# コルーチンを起動\n",
    "await main()"
   ]
  },
  {
   "cell_type": "code",
   "execution_count": null,
   "metadata": {},
   "outputs": [],
   "source": [
    "\"\"\"\n",
    "threading.Threadによるマルチスレッド処理\n",
    "\"\"\"\n",
    "\n",
    "import threading\n",
    "\n",
    "def task(name):\n",
    "    print(f'{name} started')\n",
    "    x = 0\n",
    "    for i in range(1000000):\n",
    "        x += i\n",
    "    print(f'{name} finished:', x)\n",
    "\n",
    "def main():\n",
    "    thread1 = threading.Thread(target=task, args=(\"task1\",))\n",
    "    thread2 = threading.Thread(target=task, args=(\"task2\",))\n",
    "    thread1.start()\n",
    "    thread2.start()\n",
    "    # NOTE: join()を実行すると、この処理が終了するまで呼び出し元の処理をブロックできる。\n",
    "    thread1.join()\n",
    "    thread2.join()\n",
    "    \n",
    "\n",
    "main()"
   ]
  },
  {
   "cell_type": "code",
   "execution_count": null,
   "metadata": {},
   "outputs": [],
   "source": [
    "\"\"\"\n",
    "run_in_executorにより、別スレッドで処理を実行する\n",
    "通常の関数をawaitできるようにする仕組み\n",
    "\"\"\"\n",
    "\n",
    "import asyncio\n",
    "import concurrent.futures\n",
    "import functools\n",
    "from logging import getLogger\n",
    "logger = getLogger(__name__)\n",
    "MACOS = True\n",
    "\n",
    "def task(name):\n",
    "    print(f\"{name} started \")\n",
    "    s = sum(i for i in range(10 ** 7))\n",
    "    print(f\"{name} finished \")\n",
    "    return s\n",
    "\n",
    "async def main_with_thread_pool():\n",
    "    loop = asyncio.get_running_loop()\n",
    "    with concurrent.futures.ThreadPoolExecutor(\n",
    "        max_workers=5,    \n",
    "    ) as pool:\n",
    "        task1 = loop.run_in_executor(pool, functools.partial(task, name=\"task1\"))\n",
    "        task2 = loop.run_in_executor(pool, functools.partial(task, name=\"task2\"))\n",
    "        task3 = loop.run_in_executor(pool, functools.partial(task, name=\"task3\"))\n",
    "        task4 = loop.run_in_executor(pool, functools.partial(task, name=\"task4\"))\n",
    "        task5 = loop.run_in_executor(pool, functools.partial(task, name=\"task5\"))\n",
    "        result1 = await task1\n",
    "        result2 = await task2\n",
    "        result3 = await task3\n",
    "        result4 = await task4\n",
    "        result5 = await task5\n",
    "        print('result:', result1, result2, result3, result4, result5)\n",
    "\n",
    "async def main_with_process_pool():\n",
    "    # NOTE: MACでは以下をjupyter上で動かせない\n",
    "    # 参考: https://stackoverflow.com/questions/61860800/running-a-processpoolexecutor-in-ipython\n",
    "    if MACOS is True:\n",
    "        logger.error(\"This Code Can't Work On Jupyter Note On Mac OS\")\n",
    "        return\n",
    "    loop = asyncio.get_running_loop()\n",
    "    with concurrent.futures.ProcessPoolExecutor() as pool:\n",
    "        task1 = loop.run_in_executor(pool, functools.partial(task, name=\"task1\"))\n",
    "        task2 = loop.run_in_executor(pool, functools.partial(task, name=\"task2\"))\n",
    "        result1 = await task1\n",
    "        result2 = await task2\n",
    "        print('result:', result1, result2)\n",
    "\n",
    "\n",
    "if __name__ == '__main__':# これが必要\n",
    "    # イベントループを起動し、その上でコルーチンを起動\n",
    "    # asyncio.run(main())\n",
    "\n",
    "    # コルーチンを起動\n",
    "    await main_with_thread_pool()\n",
    "    # await main_with_process_pool()\n"
   ]
  },
  {
   "cell_type": "markdown",
   "metadata": {},
   "source": [
    "## ベンチマークしてみる\n"
   ]
  },
  {
   "cell_type": "code",
   "execution_count": 47,
   "metadata": {},
   "outputs": [
    {
     "name": "stdout",
     "output_type": "stream",
     "text": [
      "normal\n",
      "[0, 4949776, 9899795, 14849102, 19800910, 24749863, 29697797, 34649723, 39596788, 44551888, 49503076, 54449152, 59400316, 64351091, 69294567]\n",
      "20.113468398000002\n",
      "asyncio\n",
      "[0, 4949700, 9900532, 14850046, 19800188, 24749657, 29700350, 34653381, 39600501, 44550277, 49499171, 54450559, 59399471, 64346995, 69300925]\n",
      "19.99381468\n",
      "PPE\n",
      "[0, 4950091, 9900626, 14849909, 19800185, 24750298, 29700794, 34649726, 39601112, 44548547, 49498125, 54450835, 59396724, 64354916, 69296167]\n",
      "10.171667543999995\n",
      "TPE\n",
      "[0, 4949834, 9899040, 14849089, 19799243, 24748007, 29700154, 34651810, 39598658, 44550197, 49500579, 54448893, 59402203, 64350542, 69298565]\n",
      "20.117084968999997\n"
     ]
    }
   ],
   "source": [
    "!python ./benchmark.py"
   ]
  },
  {
   "cell_type": "code",
   "execution_count": null,
   "metadata": {},
   "outputs": [],
   "source": []
  }
 ],
 "metadata": {
  "interpreter": {
   "hash": "aee8b7b246df8f9039afb4144a1f6fd8d2ca17a180786b69acc140d282b71a49"
  },
  "kernelspec": {
   "display_name": "Python 3.9.12 64-bit",
   "language": "python",
   "name": "python3"
  },
  "language_info": {
   "codemirror_mode": {
    "name": "ipython",
    "version": 3
   },
   "file_extension": ".py",
   "mimetype": "text/x-python",
   "name": "python",
   "nbconvert_exporter": "python",
   "pygments_lexer": "ipython3",
   "version": "3.9.12"
  },
  "orig_nbformat": 4
 },
 "nbformat": 4,
 "nbformat_minor": 2
}
