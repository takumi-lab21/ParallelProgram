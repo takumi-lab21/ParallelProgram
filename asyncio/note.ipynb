{
 "cells": [
  {
   "cell_type": "code",
   "execution_count": 2,
   "metadata": {},
   "outputs": [
    {
     "name": "stdout",
     "output_type": "stream",
     "text": [
      "task1() started\n",
      "task2() started\n",
      "task3() started\n",
      "task1() finished\n",
      "task2() finished\n",
      "task3() finished\n"
     ]
    }
   ],
   "source": [
    "\"\"\"\n",
    "シングルスレッドで並行処理を実行する\n",
    "\n",
    "イベントループ: \n",
    "- 全ての上位ループ\n",
    "- この上でコルーチンが起動する\n",
    "\n",
    "コルーチン:\n",
    "- サブルーチンがエントリーからリターンまでを一つの処理単位とするのに対し、コルーチンはいったん処理を中断した後、続きから処理を再開できる。\n",
    "- 要するに、「途中で中断可能な一連の処理の単位」である。\n",
    "\n",
    "https://qiita.com/osorezugoing/items/d26921f0affd62b87858\n",
    "\"\"\"\n",
    "\n",
    "import asyncio\n",
    "\n",
    "async def task(name):\n",
    "    print(f'{name}() started')\n",
    "    await asyncio.sleep(1)\n",
    "    print(f'{name}() finished')\n",
    "\n",
    "async def main():\n",
    "    task1 = asyncio.create_task(task(\"task1\"))  # タスクを作成\n",
    "    task2 = asyncio.create_task(task(\"task2\"))  # タスクを作成\n",
    "    task3 = asyncio.create_task(task(\"task3\"))  # タスクを作成\n",
    "    await task1\n",
    "    await task2\n",
    "    await task3\n",
    "\n",
    "# イベントループを起動し、その上でコルーチンを起動\n",
    "# asyncio.run(main()) # NOTE: jupyter noteは、asyncioのイベントループ上で動作するので、イベントループを開始できない\n",
    "\n",
    "# コルーチンを起動\n",
    "await main()"
   ]
  },
  {
   "cell_type": "code",
   "execution_count": 4,
   "metadata": {},
   "outputs": [
    {
     "name": "stdout",
     "output_type": "stream",
     "text": [
      "task1 started\n",
      "task2 started\n",
      "task1 finished: 499999500000\n",
      "task2 finished: 499999500000\n"
     ]
    }
   ],
   "source": [
    "\"\"\"\n",
    "threading.Threadによるマルチスレッド処理\n",
    "\"\"\"\n",
    "\n",
    "import threading\n",
    "\n",
    "def task(name):\n",
    "    print(f'{name} started')\n",
    "    x = 0\n",
    "    for i in range(1000000):\n",
    "        x += i\n",
    "    print(f'{name} finished:', x)\n",
    "\n",
    "def main():\n",
    "    thread1 = threading.Thread(target=task, args=(\"task1\",))\n",
    "    thread2 = threading.Thread(target=task, args=(\"task2\",))\n",
    "    thread1.start()\n",
    "    thread2.start()\n",
    "    # NOTE: join()を実行すると、この処理が終了するまで呼び出し元の処理をブロックできる。\n",
    "    thread1.join()\n",
    "    thread2.join()\n",
    "    \n",
    "\n",
    "main()"
   ]
  },
  {
   "cell_type": "code",
   "execution_count": null,
   "metadata": {},
   "outputs": [],
   "source": []
  },
  {
   "cell_type": "code",
   "execution_count": null,
   "metadata": {},
   "outputs": [],
   "source": []
  }
 ],
 "metadata": {
  "interpreter": {
   "hash": "aee8b7b246df8f9039afb4144a1f6fd8d2ca17a180786b69acc140d282b71a49"
  },
  "kernelspec": {
   "display_name": "Python 3.9.12 64-bit",
   "language": "python",
   "name": "python3"
  },
  "language_info": {
   "codemirror_mode": {
    "name": "ipython",
    "version": 3
   },
   "file_extension": ".py",
   "mimetype": "text/x-python",
   "name": "python",
   "nbconvert_exporter": "python",
   "pygments_lexer": "ipython3",
   "version": "3.9.12"
  },
  "orig_nbformat": 4
 },
 "nbformat": 4,
 "nbformat_minor": 2
}
