{
 "cells": [
  {
   "cell_type": "markdown",
   "metadata": {},
   "source": [
    "## 並行処理いろいろ"
   ]
  },
  {
   "cell_type": "code",
   "execution_count": 29,
   "metadata": {},
   "outputs": [
    {
     "name": "stdout",
     "output_type": "stream",
     "text": [
      "task1() started\n",
      "task2() started\n",
      "task3() started\n",
      "task1() finished\n",
      "task2() finished\n",
      "task3() finished\n"
     ]
    }
   ],
   "source": [
    "\"\"\"\n",
    "シングルスレッドで並行処理を実行する\n",
    "\n",
    "イベントループ: \n",
    "- 全ての上位ループ\n",
    "- この上でコルーチンが起動する\n",
    "\n",
    "コルーチン:\n",
    "- サブルーチンがエントリーからリターンまでを一つの処理単位とするのに対し、コルーチンはいったん処理を中断した後、続きから処理を再開できる。\n",
    "- 要するに、「途中で中断可能な一連の処理の単位」である。\n",
    "\n",
    "https://qiita.com/osorezugoing/items/d26921f0affd62b87858\n",
    "\"\"\"\n",
    "\n",
    "import asyncio\n",
    "\n",
    "async def task(name):\n",
    "    print(f'{name}() started')\n",
    "    await asyncio.sleep(1)\n",
    "    print(f'{name}() finished')\n",
    "\n",
    "async def main():\n",
    "    task1 = asyncio.create_task(task(\"task1\"))  # タスクを作成\n",
    "    task2 = asyncio.create_task(task(\"task2\"))  # タスクを作成\n",
    "    task3 = asyncio.create_task(task(\"task3\"))  # タスクを作成\n",
    "    await task1\n",
    "    await task2\n",
    "    await task3\n",
    "\n",
    "# イベントループを起動し、その上でコルーチンを起動\n",
    "# asyncio.run(main()) # NOTE: jupyter noteは、asyncioのイベントループ上で動作するので、イベントループを開始できない\n",
    "\n",
    "# コルーチンを起動\n",
    "await main()"
   ]
  },
  {
   "cell_type": "code",
   "execution_count": 5,
   "metadata": {},
   "outputs": [
    {
     "name": "stdout",
     "output_type": "stream",
     "text": [
      "task1 started\n",
      "task2 started\n",
      "task1 finished: 499999500000\n",
      "task2 finished: 499999500000\n"
     ]
    }
   ],
   "source": [
    "\"\"\"\n",
    "threading.Threadによるマルチスレッド処理\n",
    "\"\"\"\n",
    "\n",
    "import threading\n",
    "\n",
    "def task(name):\n",
    "    print(f'{name} started')\n",
    "    x = 0\n",
    "    for i in range(1000000):\n",
    "        x += i\n",
    "    print(f'{name} finished:', x)\n",
    "\n",
    "def main():\n",
    "    thread1 = threading.Thread(target=task, args=(\"task1\",))\n",
    "    thread2 = threading.Thread(target=task, args=(\"task2\",))\n",
    "    thread1.start()\n",
    "    thread2.start()\n",
    "    # NOTE: join()を実行すると、この処理が終了するまで呼び出し元の処理をブロックできる。\n",
    "    thread1.join()\n",
    "    thread2.join()\n",
    "    \n",
    "\n",
    "main()"
   ]
  },
  {
   "cell_type": "code",
   "execution_count": 28,
   "metadata": {},
   "outputs": [
    {
     "name": "stdout",
     "output_type": "stream",
     "text": [
      "task1 started \n",
      "task2 started \n",
      "task3 started \n",
      "task4 started \n",
      "task5 started \n",
      "task2 finished \n",
      "task3 finished \n",
      "task5 finished \n",
      "task1 finished \n",
      "task4 finished \n",
      "result: 49999995000000 49999995000000 49999995000000 49999995000000 49999995000000\n"
     ]
    }
   ],
   "source": [
    "\"\"\"\n",
    "run_in_executorにより、別スレッドで処理を実行する\n",
    "通常の関数をawaitできるようにする仕組み\n",
    "\"\"\"\n",
    "\n",
    "import asyncio\n",
    "import concurrent.futures\n",
    "import functools\n",
    "from logging import getLogger\n",
    "logger = getLogger(__name__)\n",
    "MACOS = True\n",
    "\n",
    "def task(name):\n",
    "    print(f\"{name} started \")\n",
    "    s = sum(i for i in range(10 ** 7))\n",
    "    print(f\"{name} finished \")\n",
    "    return s\n",
    "\n",
    "async def main_with_thread_pool():\n",
    "    loop = asyncio.get_running_loop()\n",
    "    with concurrent.futures.ThreadPoolExecutor(\n",
    "        max_workers=5,    \n",
    "    ) as pool:\n",
    "        task1 = loop.run_in_executor(pool, functools.partial(task, name=\"task1\"))\n",
    "        task2 = loop.run_in_executor(pool, functools.partial(task, name=\"task2\"))\n",
    "        task3 = loop.run_in_executor(pool, functools.partial(task, name=\"task3\"))\n",
    "        task4 = loop.run_in_executor(pool, functools.partial(task, name=\"task4\"))\n",
    "        task5 = loop.run_in_executor(pool, functools.partial(task, name=\"task5\"))\n",
    "        result1 = await task1\n",
    "        result2 = await task2\n",
    "        result3 = await task3\n",
    "        result4 = await task4\n",
    "        result5 = await task5\n",
    "        print('result:', result1, result2, result3, result4, result5)\n",
    "\n",
    "async def main_with_process_pool():\n",
    "    # NOTE: MACでは以下をjupyter上で動かせない\n",
    "    # 参考: https://stackoverflow.com/questions/61860800/running-a-processpoolexecutor-in-ipython\n",
    "    if MACOS is True:\n",
    "        logger.error(\"This Code Can't Work On Jupyter Note On Mac OS\")\n",
    "        return\n",
    "    loop = asyncio.get_running_loop()\n",
    "    with concurrent.futures.ProcessPoolExecutor() as pool:\n",
    "        task1 = loop.run_in_executor(pool, functools.partial(task, name=\"task1\"))\n",
    "        task2 = loop.run_in_executor(pool, functools.partial(task, name=\"task2\"))\n",
    "        result1 = await task1\n",
    "        result2 = await task2\n",
    "        print('result:', result1, result2)\n",
    "\n",
    "\n",
    "if __name__ == '__main__':# これが必要\n",
    "    # イベントループを起動し、その上でコルーチンを起動\n",
    "    # asyncio.run(main())\n",
    "\n",
    "    # コルーチンを起動\n",
    "    await main_with_thread_pool()\n",
    "    # await main_with_process_pool()\n"
   ]
  },
  {
   "cell_type": "markdown",
   "metadata": {},
   "source": [
    "## ベンチマークしてみる\n"
   ]
  },
  {
   "cell_type": "code",
   "execution_count": 39,
   "metadata": {},
   "outputs": [],
   "source": [
    "import time\n",
    "def aiomeasure(func):\n",
    "    async def wrapper(*args, **kwargs):\n",
    "        start_time = time.perf_counter()\n",
    "        response = await func(*args, **kwargs)\n",
    "        end_time = time.perf_counter()\n",
    "        elapsed_time = end_time - start_time\n",
    "        print(elapsed_time)\n",
    "        return response\n",
    "    return wrapper\n",
    "\n",
    "def measure(func):\n",
    "    def wrapper(*args, **kwargs):\n",
    "        start_time = time.perf_counter()\n",
    "        response = func(*args, **kwargs)\n",
    "        end_time = time.perf_counter()\n",
    "        elapsed_time = end_time - start_time\n",
    "        print(elapsed_time)\n",
    "        return response\n",
    "    return wrapper"
   ]
  },
  {
   "cell_type": "code",
   "execution_count": 41,
   "metadata": {},
   "outputs": [
    {
     "name": "stdout",
     "output_type": "stream",
     "text": [
      "[0, 4949842, 9899853, 14850333, 19798688, 24749292, 29698347, 34650229, 39602254, 44548188, 49498952, 54449004, 59400835, 64348560, 69302384]\n",
      "21.681085432000145\n"
     ]
    }
   ],
   "source": [
    "# asyncio\n",
    "import asyncio\n",
    "async def calc(x): # <- この関数は非同期で実行する\n",
    "    r = 0\n",
    "    for i in range(10**7): # <- 適当な重い計算\n",
    "        if random.random() < 0.99:\n",
    "            r += i % x\n",
    "    return r\n",
    "@aiomeasure\n",
    "async def main():\n",
    "    r = await asyncio.gather(*[calc(i) for i in range(1, 16)]) # <-　ここで 並列処理させて結果を取得\n",
    "    print(r)\n",
    "\n",
    "await main()"
   ]
  },
  {
   "cell_type": "code",
   "execution_count": 40,
   "metadata": {},
   "outputs": [
    {
     "name": "stdout",
     "output_type": "stream",
     "text": [
      "[0, 4950143, 9900174, 14850373, 19800223, 24750781, 29701750, 34648908, 39596854, 44549535, 49496051, 54451633, 59398020, 64347779, 69293910]\n",
      "21.624882266999975\n"
     ]
    }
   ],
   "source": [
    "# ブロッキング\n",
    "import asyncio\n",
    "import time\n",
    "import random\n",
    "def calc(x):\n",
    "    r = 0\n",
    "    for i in range(10**7):\n",
    "        if random.random() < 0.99:\n",
    "            r += i % x\n",
    "    return r\n",
    "\n",
    "@measure\n",
    "def main():\n",
    "    r = [calc(i) for i in range(1, 16)]\n",
    "    print(r)\n",
    "\n",
    "main()"
   ]
  },
  {
   "cell_type": "code",
   "execution_count": 42,
   "metadata": {},
   "outputs": [
    {
     "name": "stdout",
     "output_type": "stream",
     "text": [
      "[0, 4949960, 9900207, 14849805, 19801069, 24750697, 29699973, 34648522, 39600089, 44552550, 49500535, 54453700, 59396486, 64349553, 69305112]\n",
      "26.62063147100025\n",
      "26.620727062225342\n"
     ]
    }
   ],
   "source": [
    "# マルチスレッド\n",
    "import time\n",
    "import profile\n",
    "from concurrent.futures import ThreadPoolExecutor as TPE\n",
    "import random\n",
    "def calc(x):\n",
    "    r = 0\n",
    "    for i in range(10**7):\n",
    "        if random.random() < 0.99:\n",
    "            r += i % x\n",
    "    return r\n",
    "\n",
    "@measure\n",
    "def main():\n",
    "    with TPE(max_workers=16) as exe:\n",
    "        r = [r for r in exe.map(calc, list(range(1, 16)))]\n",
    "    print(r)\n",
    "\n",
    "main()\n"
   ]
  },
  {
   "cell_type": "code",
   "execution_count": 44,
   "metadata": {},
   "outputs": [
    {
     "name": "stderr",
     "output_type": "stream",
     "text": [
      "Process SpawnProcess-28:\n",
      "Process SpawnProcess-35:\n",
      "Process SpawnProcess-24:\n",
      "Process SpawnProcess-33:\n",
      "Process SpawnProcess-38:\n",
      "Process SpawnProcess-36:\n",
      "Process SpawnProcess-25:\n",
      "Process SpawnProcess-29:\n",
      "Process SpawnProcess-26:\n",
      "Process SpawnProcess-27:\n",
      "Process SpawnProcess-34:\n",
      "Process SpawnProcess-37:\n",
      "Process SpawnProcess-30:\n",
      "Process SpawnProcess-31:\n",
      "Process SpawnProcess-32:\n",
      "Traceback (most recent call last):\n",
      "  File \"/usr/local/Cellar/python@3.9/3.9.12/Frameworks/Python.framework/Versions/3.9/lib/python3.9/multiprocessing/process.py\", line 315, in _bootstrap\n",
      "    self.run()\n",
      "  File \"/usr/local/Cellar/python@3.9/3.9.12/Frameworks/Python.framework/Versions/3.9/lib/python3.9/multiprocessing/process.py\", line 108, in run\n",
      "    self._target(*self._args, **self._kwargs)\n",
      "  File \"/usr/local/Cellar/python@3.9/3.9.12/Frameworks/Python.framework/Versions/3.9/lib/python3.9/concurrent/futures/process.py\", line 237, in _process_worker\n",
      "    call_item = call_queue.get(block=True)\n",
      "  File \"/usr/local/Cellar/python@3.9/3.9.12/Frameworks/Python.framework/Versions/3.9/lib/python3.9/multiprocessing/queues.py\", line 122, in get\n",
      "    return _ForkingPickler.loads(res)\n",
      "AttributeError: Can't get attribute 'calc' on <module '__main__' (built-in)>\n",
      "Traceback (most recent call last):\n",
      "  File \"/usr/local/Cellar/python@3.9/3.9.12/Frameworks/Python.framework/Versions/3.9/lib/python3.9/multiprocessing/process.py\", line 315, in _bootstrap\n",
      "    self.run()\n",
      "  File \"/usr/local/Cellar/python@3.9/3.9.12/Frameworks/Python.framework/Versions/3.9/lib/python3.9/multiprocessing/process.py\", line 108, in run\n",
      "    self._target(*self._args, **self._kwargs)\n",
      "  File \"/usr/local/Cellar/python@3.9/3.9.12/Frameworks/Python.framework/Versions/3.9/lib/python3.9/concurrent/futures/process.py\", line 237, in _process_worker\n",
      "    call_item = call_queue.get(block=True)\n",
      "  File \"/usr/local/Cellar/python@3.9/3.9.12/Frameworks/Python.framework/Versions/3.9/lib/python3.9/multiprocessing/queues.py\", line 122, in get\n",
      "    return _ForkingPickler.loads(res)\n",
      "AttributeError: Can't get attribute 'calc' on <module '__main__' (built-in)>\n",
      "Traceback (most recent call last):\n",
      "  File \"/usr/local/Cellar/python@3.9/3.9.12/Frameworks/Python.framework/Versions/3.9/lib/python3.9/multiprocessing/process.py\", line 315, in _bootstrap\n",
      "    self.run()\n",
      "  File \"/usr/local/Cellar/python@3.9/3.9.12/Frameworks/Python.framework/Versions/3.9/lib/python3.9/multiprocessing/process.py\", line 108, in run\n",
      "    self._target(*self._args, **self._kwargs)\n",
      "  File \"/usr/local/Cellar/python@3.9/3.9.12/Frameworks/Python.framework/Versions/3.9/lib/python3.9/concurrent/futures/process.py\", line 237, in _process_worker\n",
      "    call_item = call_queue.get(block=True)\n",
      "  File \"/usr/local/Cellar/python@3.9/3.9.12/Frameworks/Python.framework/Versions/3.9/lib/python3.9/multiprocessing/queues.py\", line 122, in get\n",
      "    return _ForkingPickler.loads(res)\n",
      "AttributeError: Can't get attribute 'calc' on <module '__main__' (built-in)>\n",
      "Traceback (most recent call last):\n",
      "  File \"/usr/local/Cellar/python@3.9/3.9.12/Frameworks/Python.framework/Versions/3.9/lib/python3.9/multiprocessing/process.py\", line 315, in _bootstrap\n",
      "    self.run()\n",
      "  File \"/usr/local/Cellar/python@3.9/3.9.12/Frameworks/Python.framework/Versions/3.9/lib/python3.9/multiprocessing/process.py\", line 108, in run\n",
      "    self._target(*self._args, **self._kwargs)\n",
      "  File \"/usr/local/Cellar/python@3.9/3.9.12/Frameworks/Python.framework/Versions/3.9/lib/python3.9/concurrent/futures/process.py\", line 237, in _process_worker\n",
      "    call_item = call_queue.get(block=True)\n",
      "  File \"/usr/local/Cellar/python@3.9/3.9.12/Frameworks/Python.framework/Versions/3.9/lib/python3.9/multiprocessing/queues.py\", line 122, in get\n",
      "    return _ForkingPickler.loads(res)\n",
      "AttributeError: Can't get attribute 'calc' on <module '__main__' (built-in)>\n",
      "Traceback (most recent call last):\n",
      "Traceback (most recent call last):\n",
      "  File \"/usr/local/Cellar/python@3.9/3.9.12/Frameworks/Python.framework/Versions/3.9/lib/python3.9/multiprocessing/process.py\", line 315, in _bootstrap\n",
      "    self.run()\n",
      "  File \"/usr/local/Cellar/python@3.9/3.9.12/Frameworks/Python.framework/Versions/3.9/lib/python3.9/multiprocessing/process.py\", line 108, in run\n",
      "    self._target(*self._args, **self._kwargs)\n",
      "  File \"/usr/local/Cellar/python@3.9/3.9.12/Frameworks/Python.framework/Versions/3.9/lib/python3.9/concurrent/futures/process.py\", line 237, in _process_worker\n",
      "    call_item = call_queue.get(block=True)\n",
      "  File \"/usr/local/Cellar/python@3.9/3.9.12/Frameworks/Python.framework/Versions/3.9/lib/python3.9/multiprocessing/queues.py\", line 122, in get\n",
      "    return _ForkingPickler.loads(res)\n",
      "  File \"/usr/local/Cellar/python@3.9/3.9.12/Frameworks/Python.framework/Versions/3.9/lib/python3.9/multiprocessing/process.py\", line 315, in _bootstrap\n",
      "    self.run()\n",
      "AttributeError: Can't get attribute 'calc' on <module '__main__' (built-in)>\n",
      "  File \"/usr/local/Cellar/python@3.9/3.9.12/Frameworks/Python.framework/Versions/3.9/lib/python3.9/multiprocessing/process.py\", line 108, in run\n",
      "    self._target(*self._args, **self._kwargs)\n",
      "  File \"/usr/local/Cellar/python@3.9/3.9.12/Frameworks/Python.framework/Versions/3.9/lib/python3.9/concurrent/futures/process.py\", line 237, in _process_worker\n",
      "    call_item = call_queue.get(block=True)\n",
      "  File \"/usr/local/Cellar/python@3.9/3.9.12/Frameworks/Python.framework/Versions/3.9/lib/python3.9/multiprocessing/queues.py\", line 122, in get\n",
      "    return _ForkingPickler.loads(res)\n",
      "AttributeError: Can't get attribute 'calc' on <module '__main__' (built-in)>\n"
     ]
    },
    {
     "ename": "BrokenProcessPool",
     "evalue": "A process in the process pool was terminated abruptly while the future was running or pending.",
     "output_type": "error",
     "traceback": [
      "\u001b[0;31m---------------------------------------------------------------------------\u001b[0m",
      "\u001b[0;31mBrokenProcessPool\u001b[0m                         Traceback (most recent call last)",
      "\u001b[1;32m/Users/t-ibayashi/Workspace/TmpScripts/Study/ParallelProgram/asyncio/note.ipynb Cell 10'\u001b[0m in \u001b[0;36m<cell line: 18>\u001b[0;34m()\u001b[0m\n\u001b[1;32m     <a href='vscode-notebook-cell:/Users/t-ibayashi/Workspace/TmpScripts/Study/ParallelProgram/asyncio/note.ipynb#ch0000011?line=15'>16</a>\u001b[0m     \u001b[39mprint\u001b[39m(r)\n\u001b[1;32m     <a href='vscode-notebook-cell:/Users/t-ibayashi/Workspace/TmpScripts/Study/ParallelProgram/asyncio/note.ipynb#ch0000011?line=17'>18</a>\u001b[0m \u001b[39mif\u001b[39;00m \u001b[39m__name__\u001b[39m \u001b[39m==\u001b[39m \u001b[39m\"\u001b[39m\u001b[39m__main__\u001b[39m\u001b[39m\"\u001b[39m:\n\u001b[0;32m---> <a href='vscode-notebook-cell:/Users/t-ibayashi/Workspace/TmpScripts/Study/ParallelProgram/asyncio/note.ipynb#ch0000011?line=18'>19</a>\u001b[0m     main()\n",
      "\u001b[1;32m/Users/t-ibayashi/Workspace/TmpScripts/Study/ParallelProgram/asyncio/note.ipynb Cell 6'\u001b[0m in \u001b[0;36mmeasure.<locals>.wrapper\u001b[0;34m(*args, **kwargs)\u001b[0m\n\u001b[1;32m     <a href='vscode-notebook-cell:/Users/t-ibayashi/Workspace/TmpScripts/Study/ParallelProgram/asyncio/note.ipynb#ch0000009?line=12'>13</a>\u001b[0m \u001b[39mdef\u001b[39;00m \u001b[39mwrapper\u001b[39m(\u001b[39m*\u001b[39margs, \u001b[39m*\u001b[39m\u001b[39m*\u001b[39mkwargs):\n\u001b[1;32m     <a href='vscode-notebook-cell:/Users/t-ibayashi/Workspace/TmpScripts/Study/ParallelProgram/asyncio/note.ipynb#ch0000009?line=13'>14</a>\u001b[0m     start_time \u001b[39m=\u001b[39m time\u001b[39m.\u001b[39mperf_counter()\n\u001b[0;32m---> <a href='vscode-notebook-cell:/Users/t-ibayashi/Workspace/TmpScripts/Study/ParallelProgram/asyncio/note.ipynb#ch0000009?line=14'>15</a>\u001b[0m     response \u001b[39m=\u001b[39m func(\u001b[39m*\u001b[39;49margs, \u001b[39m*\u001b[39;49m\u001b[39m*\u001b[39;49mkwargs)\n\u001b[1;32m     <a href='vscode-notebook-cell:/Users/t-ibayashi/Workspace/TmpScripts/Study/ParallelProgram/asyncio/note.ipynb#ch0000009?line=15'>16</a>\u001b[0m     end_time \u001b[39m=\u001b[39m time\u001b[39m.\u001b[39mperf_counter()\n\u001b[1;32m     <a href='vscode-notebook-cell:/Users/t-ibayashi/Workspace/TmpScripts/Study/ParallelProgram/asyncio/note.ipynb#ch0000009?line=16'>17</a>\u001b[0m     elapsed_time \u001b[39m=\u001b[39m end_time \u001b[39m-\u001b[39m start_time\n",
      "\u001b[1;32m/Users/t-ibayashi/Workspace/TmpScripts/Study/ParallelProgram/asyncio/note.ipynb Cell 10'\u001b[0m in \u001b[0;36mmain\u001b[0;34m()\u001b[0m\n\u001b[1;32m     <a href='vscode-notebook-cell:/Users/t-ibayashi/Workspace/TmpScripts/Study/ParallelProgram/asyncio/note.ipynb#ch0000011?line=11'>12</a>\u001b[0m \u001b[39m@measure\u001b[39m\n\u001b[1;32m     <a href='vscode-notebook-cell:/Users/t-ibayashi/Workspace/TmpScripts/Study/ParallelProgram/asyncio/note.ipynb#ch0000011?line=12'>13</a>\u001b[0m \u001b[39mdef\u001b[39;00m \u001b[39mmain\u001b[39m():\n\u001b[1;32m     <a href='vscode-notebook-cell:/Users/t-ibayashi/Workspace/TmpScripts/Study/ParallelProgram/asyncio/note.ipynb#ch0000011?line=13'>14</a>\u001b[0m     \u001b[39mwith\u001b[39;00m PPE(max_workers\u001b[39m=\u001b[39m\u001b[39m16\u001b[39m) \u001b[39mas\u001b[39;00m exe:\n\u001b[0;32m---> <a href='vscode-notebook-cell:/Users/t-ibayashi/Workspace/TmpScripts/Study/ParallelProgram/asyncio/note.ipynb#ch0000011?line=14'>15</a>\u001b[0m         r \u001b[39m=\u001b[39m [r \u001b[39mfor\u001b[39;00m r \u001b[39min\u001b[39;00m exe\u001b[39m.\u001b[39mmap(calc, \u001b[39mlist\u001b[39m(\u001b[39mrange\u001b[39m(\u001b[39m1\u001b[39m, \u001b[39m16\u001b[39m)))]\n\u001b[1;32m     <a href='vscode-notebook-cell:/Users/t-ibayashi/Workspace/TmpScripts/Study/ParallelProgram/asyncio/note.ipynb#ch0000011?line=15'>16</a>\u001b[0m     \u001b[39mprint\u001b[39m(r)\n",
      "\u001b[1;32m/Users/t-ibayashi/Workspace/TmpScripts/Study/ParallelProgram/asyncio/note.ipynb Cell 10'\u001b[0m in \u001b[0;36m<listcomp>\u001b[0;34m(.0)\u001b[0m\n\u001b[1;32m     <a href='vscode-notebook-cell:/Users/t-ibayashi/Workspace/TmpScripts/Study/ParallelProgram/asyncio/note.ipynb#ch0000011?line=11'>12</a>\u001b[0m \u001b[39m@measure\u001b[39m\n\u001b[1;32m     <a href='vscode-notebook-cell:/Users/t-ibayashi/Workspace/TmpScripts/Study/ParallelProgram/asyncio/note.ipynb#ch0000011?line=12'>13</a>\u001b[0m \u001b[39mdef\u001b[39;00m \u001b[39mmain\u001b[39m():\n\u001b[1;32m     <a href='vscode-notebook-cell:/Users/t-ibayashi/Workspace/TmpScripts/Study/ParallelProgram/asyncio/note.ipynb#ch0000011?line=13'>14</a>\u001b[0m     \u001b[39mwith\u001b[39;00m PPE(max_workers\u001b[39m=\u001b[39m\u001b[39m16\u001b[39m) \u001b[39mas\u001b[39;00m exe:\n\u001b[0;32m---> <a href='vscode-notebook-cell:/Users/t-ibayashi/Workspace/TmpScripts/Study/ParallelProgram/asyncio/note.ipynb#ch0000011?line=14'>15</a>\u001b[0m         r \u001b[39m=\u001b[39m [r \u001b[39mfor\u001b[39;00m r \u001b[39min\u001b[39;00m exe\u001b[39m.\u001b[39mmap(calc, \u001b[39mlist\u001b[39m(\u001b[39mrange\u001b[39m(\u001b[39m1\u001b[39m, \u001b[39m16\u001b[39m)))]\n\u001b[1;32m     <a href='vscode-notebook-cell:/Users/t-ibayashi/Workspace/TmpScripts/Study/ParallelProgram/asyncio/note.ipynb#ch0000011?line=15'>16</a>\u001b[0m     \u001b[39mprint\u001b[39m(r)\n",
      "File \u001b[0;32m/usr/local/Cellar/python@3.9/3.9.12/Frameworks/Python.framework/Versions/3.9/lib/python3.9/concurrent/futures/process.py:559\u001b[0m, in \u001b[0;36m_chain_from_iterable_of_lists\u001b[0;34m(iterable)\u001b[0m\n\u001b[1;32m    <a href='file:///usr/local/Cellar/python%403.9/3.9.12/Frameworks/Python.framework/Versions/3.9/lib/python3.9/concurrent/futures/process.py?line=552'>553</a>\u001b[0m \u001b[39mdef\u001b[39;00m \u001b[39m_chain_from_iterable_of_lists\u001b[39m(iterable):\n\u001b[1;32m    <a href='file:///usr/local/Cellar/python%403.9/3.9.12/Frameworks/Python.framework/Versions/3.9/lib/python3.9/concurrent/futures/process.py?line=553'>554</a>\u001b[0m     \u001b[39m\"\"\"\u001b[39;00m\n\u001b[1;32m    <a href='file:///usr/local/Cellar/python%403.9/3.9.12/Frameworks/Python.framework/Versions/3.9/lib/python3.9/concurrent/futures/process.py?line=554'>555</a>\u001b[0m \u001b[39m    Specialized implementation of itertools.chain.from_iterable.\u001b[39;00m\n\u001b[1;32m    <a href='file:///usr/local/Cellar/python%403.9/3.9.12/Frameworks/Python.framework/Versions/3.9/lib/python3.9/concurrent/futures/process.py?line=555'>556</a>\u001b[0m \u001b[39m    Each item in *iterable* should be a list.  This function is\u001b[39;00m\n\u001b[1;32m    <a href='file:///usr/local/Cellar/python%403.9/3.9.12/Frameworks/Python.framework/Versions/3.9/lib/python3.9/concurrent/futures/process.py?line=556'>557</a>\u001b[0m \u001b[39m    careful not to keep references to yielded objects.\u001b[39;00m\n\u001b[1;32m    <a href='file:///usr/local/Cellar/python%403.9/3.9.12/Frameworks/Python.framework/Versions/3.9/lib/python3.9/concurrent/futures/process.py?line=557'>558</a>\u001b[0m \u001b[39m    \"\"\"\u001b[39;00m\n\u001b[0;32m--> <a href='file:///usr/local/Cellar/python%403.9/3.9.12/Frameworks/Python.framework/Versions/3.9/lib/python3.9/concurrent/futures/process.py?line=558'>559</a>\u001b[0m     \u001b[39mfor\u001b[39;00m element \u001b[39min\u001b[39;00m iterable:\n\u001b[1;32m    <a href='file:///usr/local/Cellar/python%403.9/3.9.12/Frameworks/Python.framework/Versions/3.9/lib/python3.9/concurrent/futures/process.py?line=559'>560</a>\u001b[0m         element\u001b[39m.\u001b[39mreverse()\n\u001b[1;32m    <a href='file:///usr/local/Cellar/python%403.9/3.9.12/Frameworks/Python.framework/Versions/3.9/lib/python3.9/concurrent/futures/process.py?line=560'>561</a>\u001b[0m         \u001b[39mwhile\u001b[39;00m element:\n",
      "File \u001b[0;32m/usr/local/Cellar/python@3.9/3.9.12/Frameworks/Python.framework/Versions/3.9/lib/python3.9/concurrent/futures/_base.py:609\u001b[0m, in \u001b[0;36mExecutor.map.<locals>.result_iterator\u001b[0;34m()\u001b[0m\n\u001b[1;32m    <a href='file:///usr/local/Cellar/python%403.9/3.9.12/Frameworks/Python.framework/Versions/3.9/lib/python3.9/concurrent/futures/_base.py?line=605'>606</a>\u001b[0m \u001b[39mwhile\u001b[39;00m fs:\n\u001b[1;32m    <a href='file:///usr/local/Cellar/python%403.9/3.9.12/Frameworks/Python.framework/Versions/3.9/lib/python3.9/concurrent/futures/_base.py?line=606'>607</a>\u001b[0m     \u001b[39m# Careful not to keep a reference to the popped future\u001b[39;00m\n\u001b[1;32m    <a href='file:///usr/local/Cellar/python%403.9/3.9.12/Frameworks/Python.framework/Versions/3.9/lib/python3.9/concurrent/futures/_base.py?line=607'>608</a>\u001b[0m     \u001b[39mif\u001b[39;00m timeout \u001b[39mis\u001b[39;00m \u001b[39mNone\u001b[39;00m:\n\u001b[0;32m--> <a href='file:///usr/local/Cellar/python%403.9/3.9.12/Frameworks/Python.framework/Versions/3.9/lib/python3.9/concurrent/futures/_base.py?line=608'>609</a>\u001b[0m         \u001b[39myield\u001b[39;00m fs\u001b[39m.\u001b[39;49mpop()\u001b[39m.\u001b[39;49mresult()\n\u001b[1;32m    <a href='file:///usr/local/Cellar/python%403.9/3.9.12/Frameworks/Python.framework/Versions/3.9/lib/python3.9/concurrent/futures/_base.py?line=609'>610</a>\u001b[0m     \u001b[39melse\u001b[39;00m:\n\u001b[1;32m    <a href='file:///usr/local/Cellar/python%403.9/3.9.12/Frameworks/Python.framework/Versions/3.9/lib/python3.9/concurrent/futures/_base.py?line=610'>611</a>\u001b[0m         \u001b[39myield\u001b[39;00m fs\u001b[39m.\u001b[39mpop()\u001b[39m.\u001b[39mresult(end_time \u001b[39m-\u001b[39m time\u001b[39m.\u001b[39mmonotonic())\n",
      "File \u001b[0;32m/usr/local/Cellar/python@3.9/3.9.12/Frameworks/Python.framework/Versions/3.9/lib/python3.9/concurrent/futures/_base.py:446\u001b[0m, in \u001b[0;36mFuture.result\u001b[0;34m(self, timeout)\u001b[0m\n\u001b[1;32m    <a href='file:///usr/local/Cellar/python%403.9/3.9.12/Frameworks/Python.framework/Versions/3.9/lib/python3.9/concurrent/futures/_base.py?line=443'>444</a>\u001b[0m     \u001b[39mraise\u001b[39;00m CancelledError()\n\u001b[1;32m    <a href='file:///usr/local/Cellar/python%403.9/3.9.12/Frameworks/Python.framework/Versions/3.9/lib/python3.9/concurrent/futures/_base.py?line=444'>445</a>\u001b[0m \u001b[39melif\u001b[39;00m \u001b[39mself\u001b[39m\u001b[39m.\u001b[39m_state \u001b[39m==\u001b[39m FINISHED:\n\u001b[0;32m--> <a href='file:///usr/local/Cellar/python%403.9/3.9.12/Frameworks/Python.framework/Versions/3.9/lib/python3.9/concurrent/futures/_base.py?line=445'>446</a>\u001b[0m     \u001b[39mreturn\u001b[39;00m \u001b[39mself\u001b[39;49m\u001b[39m.\u001b[39;49m__get_result()\n\u001b[1;32m    <a href='file:///usr/local/Cellar/python%403.9/3.9.12/Frameworks/Python.framework/Versions/3.9/lib/python3.9/concurrent/futures/_base.py?line=446'>447</a>\u001b[0m \u001b[39melse\u001b[39;00m:\n\u001b[1;32m    <a href='file:///usr/local/Cellar/python%403.9/3.9.12/Frameworks/Python.framework/Versions/3.9/lib/python3.9/concurrent/futures/_base.py?line=447'>448</a>\u001b[0m     \u001b[39mraise\u001b[39;00m \u001b[39mTimeoutError\u001b[39;00m()\n",
      "File \u001b[0;32m/usr/local/Cellar/python@3.9/3.9.12/Frameworks/Python.framework/Versions/3.9/lib/python3.9/concurrent/futures/_base.py:391\u001b[0m, in \u001b[0;36mFuture.__get_result\u001b[0;34m(self)\u001b[0m\n\u001b[1;32m    <a href='file:///usr/local/Cellar/python%403.9/3.9.12/Frameworks/Python.framework/Versions/3.9/lib/python3.9/concurrent/futures/_base.py?line=388'>389</a>\u001b[0m \u001b[39mif\u001b[39;00m \u001b[39mself\u001b[39m\u001b[39m.\u001b[39m_exception:\n\u001b[1;32m    <a href='file:///usr/local/Cellar/python%403.9/3.9.12/Frameworks/Python.framework/Versions/3.9/lib/python3.9/concurrent/futures/_base.py?line=389'>390</a>\u001b[0m     \u001b[39mtry\u001b[39;00m:\n\u001b[0;32m--> <a href='file:///usr/local/Cellar/python%403.9/3.9.12/Frameworks/Python.framework/Versions/3.9/lib/python3.9/concurrent/futures/_base.py?line=390'>391</a>\u001b[0m         \u001b[39mraise\u001b[39;00m \u001b[39mself\u001b[39m\u001b[39m.\u001b[39m_exception\n\u001b[1;32m    <a href='file:///usr/local/Cellar/python%403.9/3.9.12/Frameworks/Python.framework/Versions/3.9/lib/python3.9/concurrent/futures/_base.py?line=391'>392</a>\u001b[0m     \u001b[39mfinally\u001b[39;00m:\n\u001b[1;32m    <a href='file:///usr/local/Cellar/python%403.9/3.9.12/Frameworks/Python.framework/Versions/3.9/lib/python3.9/concurrent/futures/_base.py?line=392'>393</a>\u001b[0m         \u001b[39m# Break a reference cycle with the exception in self._exception\u001b[39;00m\n\u001b[1;32m    <a href='file:///usr/local/Cellar/python%403.9/3.9.12/Frameworks/Python.framework/Versions/3.9/lib/python3.9/concurrent/futures/_base.py?line=393'>394</a>\u001b[0m         \u001b[39mself\u001b[39m \u001b[39m=\u001b[39m \u001b[39mNone\u001b[39;00m\n",
      "\u001b[0;31mBrokenProcessPool\u001b[0m: A process in the process pool was terminated abruptly while the future was running or pending."
     ]
    }
   ],
   "source": [
    "# マルチプロセス\n",
    "# https://docs.python.org/ja/3/library/concurrent.futures.html\n",
    "\n",
    "import time\n",
    "import profile\n",
    "from concurrent.futures import ProcessPoolExecutor as PPE\n",
    "import random\n",
    "def calc(x):\n",
    "    r = 0\n",
    "    for i in range(10**7):\n",
    "        if random.random() < 0.99:\n",
    "            r += i % x\n",
    "    return r\n",
    "\n",
    "@measure\n",
    "def main():\n",
    "    with PPE(max_workers=16) as exe:\n",
    "        r = [r for r in exe.map(calc, list(range(1, 16)))]\n",
    "    print(r)\n",
    "\n",
    "if __name__ == \"__main__\":\n",
    "    main()\n"
   ]
  },
  {
   "cell_type": "code",
   "execution_count": null,
   "metadata": {},
   "outputs": [],
   "source": []
  }
 ],
 "metadata": {
  "interpreter": {
   "hash": "aee8b7b246df8f9039afb4144a1f6fd8d2ca17a180786b69acc140d282b71a49"
  },
  "kernelspec": {
   "display_name": "Python 3.9.12 64-bit",
   "language": "python",
   "name": "python3"
  },
  "language_info": {
   "codemirror_mode": {
    "name": "ipython",
    "version": 3
   },
   "file_extension": ".py",
   "mimetype": "text/x-python",
   "name": "python",
   "nbconvert_exporter": "python",
   "pygments_lexer": "ipython3",
   "version": "3.9.12"
  },
  "orig_nbformat": 4
 },
 "nbformat": 4,
 "nbformat_minor": 2
}
